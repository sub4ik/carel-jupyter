{
 "cells": [
  {
   "cell_type": "code",
   "execution_count": 1,
   "metadata": {},
   "outputs": [
    {
     "name": "stdout",
     "output_type": "stream",
     "text": [
      "',(0):>\n",
      "   0   \n",
      "   0   \n",
      "   0   \n"
     ]
    }
   ],
   "source": [
    "from carel import Carel\n",
    "from carelgrid import CarelGrid\n",
    "from gamecanvas import GameCanvas\n",
    "\n",
    "field = [[0 for x in range(1)] for y in range(4)]\n",
    "\n",
    "#field[0][1] = 1\n",
    "#field[1][0] = 2\n",
    "#field[3][2] = 1\n",
    "\n",
    "grid = CarelGrid(field)\n",
    "canvas = GameCanvas(speed=1);\n",
    "carel = Carel(canvas, grid);\n",
    "\n",
    "def move():\n",
    "    carel.move()\n",
    "def turn_left():\n",
    "    carel.turn_left()\n",
    "def drop_beeper():\n",
    "    carel.drop_beeper()\n",
    "def collect_beeper():\n",
    "    carel.collect_beeper()\n",
    "def is_beeper():\n",
    "    return carel.is_beeper()\n",
    "def is_front_clear():\n",
    "    return carel.is_front_clear()\n",
    "def show():\n",
    "    carel.show()"
   ]
  },
  {
   "cell_type": "code",
   "execution_count": 2,
   "metadata": {},
   "outputs": [],
   "source": [
    "# New methods go here\n",
    "\n",
    "# Example\n",
    "\n",
    "def turn_around():\n",
    "    turn_left()\n",
    "    turn_left()\n",
    "    \n",
    "def go_back_and_next_line():\n",
    "    turn_around()\n",
    "    move_to_wall()\n",
    "    turn_left()\n",
    "    \n",
    "\n",
    "\n",
    "def move_to_wall():\n",
    "    while is_front_clear():\n",
    "        move()\n",
    "\n",
    "\n",
    "def turn_right():\n",
    "    for i in range(3):\n",
    "        turn_left()\n",
    "        \n",
    "def fill_line_01():\n",
    "    while True:\n",
    "        clean_cell()\n",
    "        if is_front_clear():\n",
    "            move()\n",
    "            clear_and_drop_beeper()\n",
    "        else:\n",
    "            break\n",
    "        if is_front_clear():\n",
    "            move()\n",
    "        else:\n",
    "            break\n",
    "            \n",
    "def fill_line_10():\n",
    "    while True:\n",
    "        clear_and_drop_beeper()\n",
    "        if is_front_clear():\n",
    "            move()\n",
    "            clean_cell()\n",
    "        else:\n",
    "            break\n",
    "        if is_front_clear():\n",
    "            move()\n",
    "        else:\n",
    "            break\n",
    "            \n",
    "def clean_cell():\n",
    "    while is_beeper():\n",
    "        collect_beeper()\n",
    "        \n",
    "def clear_and_drop_beeper():\n",
    "    clean_cell()\n",
    "    drop_beeper()\n",
    "    \n",
    "\n",
    "\n",
    "\n"
   ]
  },
  {
   "cell_type": "code",
   "execution_count": 3,
   "metadata": {},
   "outputs": [
    {
     "name": "stdout",
     "output_type": "stream",
     "text": [
      "   0   \n",
      "   1   \n",
      "   0   \n",
      "',(1):v\n"
     ]
    }
   ],
   "source": [
    "# Make a chessboard\n",
    "while True:\n",
    "    fill_line_01()\n",
    "    go_back_and_next_line()\n",
    "    if is_front_clear():\n",
    "        move()\n",
    "        turn_left()\n",
    "    else:\n",
    "        break\n",
    "    fill_line_10()\n",
    "    go_back_and_next_line()\n",
    "    if is_front_clear():\n",
    "        move()\n",
    "        turn_left()\n",
    "    else:\n",
    "        break\n",
    "    "
   ]
  },
  {
   "cell_type": "code",
   "execution_count": null,
   "metadata": {},
   "outputs": [],
   "source": []
  }
 ],
 "metadata": {
  "kernelspec": {
   "display_name": "Python 3",
   "language": "python",
   "name": "python3"
  },
  "language_info": {
   "codemirror_mode": {
    "name": "ipython",
    "version": 3
   },
   "file_extension": ".py",
   "mimetype": "text/x-python",
   "name": "python",
   "nbconvert_exporter": "python",
   "pygments_lexer": "ipython3",
   "version": "3.7.1"
  }
 },
 "nbformat": 4,
 "nbformat_minor": 2
}
