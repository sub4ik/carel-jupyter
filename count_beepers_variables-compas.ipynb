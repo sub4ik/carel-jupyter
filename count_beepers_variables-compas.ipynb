{
 "cells": [
  {
   "cell_type": "code",
   "execution_count": 49,
   "metadata": {},
   "outputs": [],
   "source": [
    "from carel import Carel\n",
    "from carelgrid import CarelGrid\n",
    "from gamecanvas import GameCanvas\n"
   ]
  },
  {
   "cell_type": "code",
   "execution_count": 50,
   "metadata": {},
   "outputs": [],
   "source": [
    "class CarelTurn(Carel):\n",
    "    \n",
    "    def initiate_position(self):\n",
    "        self.position = 3\n",
    "    \n",
    "    def turn_left(self):\n",
    "        super().turn_left()\n",
    "        if self.position == 4:\n",
    "            self.position = 0\n",
    "        self.position = self.position + 1\n",
    "    \n",
    "    def turn_right(self):\n",
    "        self.turn_left()\n",
    "        self.turn_left()\n",
    "        self.turn_left()\n",
    "        \n",
    "    def turn_around(self):\n",
    "        self.turn_left()\n",
    "        self.turn_left()\n",
    "        \n",
    "    def go_started_position(self):\n",
    "        self.turn_up()    \n",
    "        self.move_to_wall()\n",
    "        self.turn_left()\n",
    "        self.move_to_wall()\n",
    "        self.turn_around()\n",
    "            \n",
    "    def move_to_wall(self):\n",
    "        while self.is_front_clear():\n",
    "            self.move()\n",
    "    \n",
    "    def turn_up(self):\n",
    "        if self.position == 0:\n",
    "            pass\n",
    "        elif self.position == 1:\n",
    "            self.turn_right()\n",
    "        elif self.position == 2:\n",
    "            self.turn_around()\n",
    "        elif self.position == 3:\n",
    "            self.turn_left()"
   ]
  },
  {
   "cell_type": "code",
   "execution_count": 51,
   "metadata": {},
   "outputs": [
    {
     "name": "stdout",
     "output_type": "stream",
     "text": [
      "',(0):>   1      0      0      0      0   \n",
      "   2      0      0      0      0      0   \n",
      "   0      0      0      0      0      0   \n",
      "   0      0      1      0      0      0   \n"
     ]
    }
   ],
   "source": [
    "field = [[0 for x in range(6)] for y in range(4)]\n",
    "\n",
    "field[0][1] = 1\n",
    "field[1][0] = 2\n",
    "field[3][2] = 1\n",
    "\n",
    "grid = CarelGrid(field)\n",
    "canvas = GameCanvas(speed=30);\n",
    "carel = CarelTurn(canvas, grid);\n",
    "\n",
    "carel.initiate_position()\n",
    "\n",
    "def move():\n",
    "    carel.move()\n",
    "def turn_left():\n",
    "    carel.turn_left()\n",
    "def turn_right():\n",
    "    carel.turn_right()\n",
    "def drop_beeper():\n",
    "    carel.drop_beeper()\n",
    "def collect_beeper():\n",
    "    carel.collect_beeper()\n",
    "def is_beeper():\n",
    "    return carel.is_beeper()\n",
    "def is_front_clear():\n",
    "    return carel.is_front_clear()\n",
    "def fill_field():\n",
    "    carel.fill_field()\n",
    "def show():\n",
    "    carel.show()"
   ]
  },
  {
   "cell_type": "code",
   "execution_count": 52,
   "metadata": {},
   "outputs": [
    {
     "name": "stdout",
     "output_type": "stream",
     "text": [
      "',(0):>   1      0      0      0      0   \n",
      "   2      0      0      0      0      0   \n",
      "   0      0      0      0      0      0   \n",
      "   0      0      1      0      0      0   \n"
     ]
    }
   ],
   "source": [
    "# New methods go here\n",
    "carel.move_to_wall()\n",
    "turn_right()\n",
    "move()\n",
    "turn_right()\n",
    "move()\n",
    "\n",
    "carel.go_started_position()    \n",
    "\n",
    "\n"
   ]
  }
 ],
 "metadata": {
  "kernelspec": {
   "display_name": "Python 3",
   "language": "python",
   "name": "python3"
  },
  "language_info": {
   "codemirror_mode": {
    "name": "ipython",
    "version": 3
   },
   "file_extension": ".py",
   "mimetype": "text/x-python",
   "name": "python",
   "nbconvert_exporter": "python",
   "pygments_lexer": "ipython3",
   "version": "3.7.1"
  }
 },
 "nbformat": 4,
 "nbformat_minor": 2
}
